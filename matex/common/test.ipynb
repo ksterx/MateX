{
 "cells": [
  {
   "cell_type": "code",
   "execution_count": 3,
   "metadata": {},
   "outputs": [],
   "source": [
    "import mlflow\n",
    "from typing import Any, Dict, Generator, List, MutableMapping, Optional, Union\n",
    "from mlflow.tracking import MlflowClient\n",
    "from pathlib import Path\n",
    "from omegaconf import DictConfig, OmegaConf"
   ]
  },
  {
   "cell_type": "code",
   "execution_count": 30,
   "metadata": {},
   "outputs": [],
   "source": [
    "class MLFlowLogger():\n",
    "    def __init__(\n",
    "        self,\n",
    "        tracking_uri: str,\n",
    "        cfg: Union[DictConfig, dict],\n",
    "        exp_name: Optional[str] = None,\n",
    "    ):\n",
    "        super().__init__()\n",
    "        self.client = MlflowClient(tracking_uri)\n",
    "        self.cfg = cfg\n",
    "\n",
    "        if cfg[\"debug\"]:\n",
    "            exp_name = \"Debug\"\n",
    "        else:\n",
    "            exp_name = cfg[\"exp_name\"]\n",
    "\n",
    "        self.experiment = self.client.get_experiment_by_name(exp_name)\n",
    "        if self.experiment is None:\n",
    "            self.experiment_id = self.client.create_experiment(exp_name)\n",
    "            self.experiment = self.client.get_experiment(self.experiment_id)\n",
    "        else:\n",
    "            self.experiment_id = self.experiment.experiment_id\n",
    "\n",
    "        # convert hydra config to dict\n",
    "        self.run = self.client.create_run(self.experiment_id)\n",
    "        self.run_id = self.run.info.run_id\n",
    "\n",
    "        self.local_run_dir = (\n",
    "            Path(\".\")\n",
    "            / Path(tracking_uri.lstrip(\"file:\"))\n",
    "            / self.experiment_id\n",
    "            / self.run_id\n",
    "            / \"artifacts\"\n",
    "        ).resolve()\n",
    "\n",
    "    def log_param(self, key, value):\n",
    "        self.client.log_param(self.run_id, key, value)\n",
    "\n",
    "    def log_metric(self, key, value, step: Union[str, int], prefix: str = \"\"):\n",
    "        print(step)\n",
    "        self.client.log_metric(self.run_id, prefix + key, value, step)\n",
    "\n",
    "    def log_metrics(self, metrics: Dict[str, Any], step: Union[str, int], prefix: str = \"\"):\n",
    "        for k, v in metrics.items():\n",
    "            self.log_metric(k, v, step, prefix)\n",
    "\n",
    "    def log_hparams(self, params: Union[Dict[str, Any], DictConfig]) -> None:\n",
    "\n",
    "        if isinstance(params, DictConfig):\n",
    "            params = OmegaConf.to_container(params, resolve=True)\n",
    "\n",
    "        for k, v in params.items():\n",
    "            if len(str(v)) > 250:\n",
    "                \n",
    "                continue\n",
    "\n",
    "            self.log_param(k, v)\n",
    "\n",
    "    def log_artifact(self, local_path, artifact_path=None):\n",
    "        self.client.log_artifact(self.run_id, local_path, artifact_path)\n",
    "\n",
    "    def close(self):\n",
    "        self.client.set_terminated(self.run_id)\n"
   ]
  },
  {
   "cell_type": "code",
   "execution_count": 31,
   "metadata": {},
   "outputs": [],
   "source": [
    "logger = MLFlowLogger(tracking_uri=\"file:./mlruns\", cfg={\"debug\": True})"
   ]
  },
  {
   "cell_type": "code",
   "execution_count": 32,
   "metadata": {},
   "outputs": [
    {
     "ename": "AttributeError",
     "evalue": "'MlflowClient' object has no attribute 'run'",
     "output_type": "error",
     "traceback": [
      "\u001b[1;31m---------------------------------------------------------------------------\u001b[0m",
      "\u001b[1;31mAttributeError\u001b[0m                            Traceback (most recent call last)",
      "Cell \u001b[1;32mIn[32], line 2\u001b[0m\n\u001b[0;32m      1\u001b[0m \u001b[39mfor\u001b[39;00m i \u001b[39min\u001b[39;00m \u001b[39mrange\u001b[39m(\u001b[39m50\u001b[39m):\n\u001b[1;32m----> 2\u001b[0m     logger\u001b[39m.\u001b[39mclient\u001b[39m.\u001b[39mlog_metric(logger\u001b[39m.\u001b[39;49mclient\u001b[39m.\u001b[39;49mrun\u001b[39m.\u001b[39minfo\u001b[39m.\u001b[39mrun_id, \u001b[39m\"\u001b[39m\u001b[39mtest\u001b[39m\u001b[39m\"\u001b[39m, i, i)\n",
      "\u001b[1;31mAttributeError\u001b[0m: 'MlflowClient' object has no attribute 'run'"
     ]
    }
   ],
   "source": [
    "for i in range(50):\n",
    "    logger.client.log_metric(logger.client.run.info.run_id, \"test\", i, i)"
   ]
  },
  {
   "cell_type": "code",
   "execution_count": 39,
   "metadata": {},
   "outputs": [],
   "source": [
    "client = MlflowClient(tracking_uri=\"file:./mlruns\")"
   ]
  },
  {
   "cell_type": "code",
   "execution_count": 40,
   "metadata": {},
   "outputs": [],
   "source": [
    "run = client.create_run(experiment_id=\"0\")"
   ]
  },
  {
   "cell_type": "code",
   "execution_count": 41,
   "metadata": {},
   "outputs": [],
   "source": [
    "run_id = run.info.run_id"
   ]
  },
  {
   "cell_type": "code",
   "execution_count": 42,
   "metadata": {},
   "outputs": [],
   "source": [
    "for i in range(50):\n",
    "    client.log_metric(run_id, \"test\", i, i)\n",
    "client.set_terminated(run_id)"
   ]
  },
  {
   "cell_type": "code",
   "execution_count": 43,
   "metadata": {},
   "outputs": [],
   "source": [
    "with mlflow.start_run() as run:\n",
    "    for i in range(50):\n",
    "        mlflow.log_metric(\"test\", i, i)"
   ]
  },
  {
   "cell_type": "code",
   "execution_count": null,
   "metadata": {},
   "outputs": [],
   "source": []
  }
 ],
 "metadata": {
  "kernelspec": {
   "display_name": "rl",
   "language": "python",
   "name": "python3"
  },
  "language_info": {
   "codemirror_mode": {
    "name": "ipython",
    "version": 3
   },
   "file_extension": ".py",
   "mimetype": "text/x-python",
   "name": "python",
   "nbconvert_exporter": "python",
   "pygments_lexer": "ipython3",
   "version": "3.10.10"
  },
  "orig_nbformat": 4
 },
 "nbformat": 4,
 "nbformat_minor": 2
}
