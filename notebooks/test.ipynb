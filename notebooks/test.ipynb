{
 "cells": [
  {
   "cell_type": "code",
   "execution_count": 1,
   "metadata": {},
   "outputs": [],
   "source": [
    "from mlflow.tracking import MlflowClient"
   ]
  },
  {
   "cell_type": "code",
   "execution_count": 2,
   "metadata": {},
   "outputs": [],
   "source": [
    "c = MlflowClient(tracking_uri=\"http://localhost:5000\")"
   ]
  },
  {
   "cell_type": "code",
   "execution_count": 3,
   "metadata": {},
   "outputs": [
    {
     "ename": "TypeError",
     "evalue": "MlflowClient.create_run() missing 1 required positional argument: 'experiment_id'",
     "output_type": "error",
     "traceback": [
      "\u001b[1;31m---------------------------------------------------------------------------\u001b[0m",
      "\u001b[1;31mTypeError\u001b[0m                                 Traceback (most recent call last)",
      "Cell \u001b[1;32mIn[3], line 1\u001b[0m\n\u001b[1;32m----> 1\u001b[0m c\u001b[39m.\u001b[39;49mcreate_run()\n",
      "\u001b[1;31mTypeError\u001b[0m: MlflowClient.create_run() missing 1 required positional argument: 'experiment_id'"
     ]
    }
   ],
   "source": [
    "c.create_run()"
   ]
  },
  {
   "cell_type": "code",
   "execution_count": 4,
   "metadata": {},
   "outputs": [],
   "source": [
    "import mlflow"
   ]
  },
  {
   "cell_type": "code",
   "execution_count": 5,
   "metadata": {},
   "outputs": [],
   "source": [
    "with mlflow.start_run():\n",
    "    mlflow.log_param(\"param1\", 5)"
   ]
  },
  {
   "cell_type": "code",
   "execution_count": 1,
   "metadata": {},
   "outputs": [
    {
     "ename": "ModuleNotFoundError",
     "evalue": "No module named 'matex'",
     "output_type": "error",
     "traceback": [
      "\u001b[1;31m---------------------------------------------------------------------------\u001b[0m",
      "\u001b[1;31mModuleNotFoundError\u001b[0m                       Traceback (most recent call last)",
      "Cell \u001b[1;32mIn[1], line 1\u001b[0m\n\u001b[1;32m----> 1\u001b[0m \u001b[39mimport\u001b[39;00m \u001b[39mmatex\u001b[39;00m\n",
      "\u001b[1;31mModuleNotFoundError\u001b[0m: No module named 'matex'"
     ]
    }
   ],
   "source": [
    "import matex"
   ]
  },
  {
   "cell_type": "code",
   "execution_count": 1,
   "metadata": {},
   "outputs": [],
   "source": [
    "import mlflow"
   ]
  },
  {
   "cell_type": "code",
   "execution_count": 3,
   "metadata": {},
   "outputs": [],
   "source": [
    "with mlflow.start_run() as run:\n",
    "    for i in range(100):\n",
    "        mlflow.log_metric(\"my_metric\", i, step=i)"
   ]
  },
  {
   "cell_type": "code",
   "execution_count": 14,
   "metadata": {},
   "outputs": [],
   "source": [
    "from mlflow.tracking import MlflowClient"
   ]
  },
  {
   "cell_type": "code",
   "execution_count": 15,
   "metadata": {},
   "outputs": [],
   "source": [
    "client = MlflowClient()"
   ]
  },
  {
   "cell_type": "code",
   "execution_count": 16,
   "metadata": {},
   "outputs": [],
   "source": [
    "run = client.create_run(experiment_id=\"0\")"
   ]
  },
  {
   "cell_type": "code",
   "execution_count": 17,
   "metadata": {},
   "outputs": [],
   "source": [
    "run_id = run.info.run_id"
   ]
  },
  {
   "cell_type": "code",
   "execution_count": 18,
   "metadata": {},
   "outputs": [
    {
     "ename": "TypeError",
     "evalue": "expected string or bytes-like object",
     "output_type": "error",
     "traceback": [
      "\u001b[1;31m---------------------------------------------------------------------------\u001b[0m",
      "\u001b[1;31mTypeError\u001b[0m                                 Traceback (most recent call last)",
      "Cell \u001b[1;32mIn[18], line 3\u001b[0m\n\u001b[0;32m      1\u001b[0m \u001b[39mimport\u001b[39;00m \u001b[39mrandom\u001b[39;00m\n\u001b[0;32m      2\u001b[0m \u001b[39mfor\u001b[39;00m i \u001b[39min\u001b[39;00m \u001b[39mrange\u001b[39m(\u001b[39m50\u001b[39m):\n\u001b[1;32m----> 3\u001b[0m     client\u001b[39m.\u001b[39;49mlog_metric(run_id, random\u001b[39m.\u001b[39;49mrandom(), i, step\u001b[39m=\u001b[39;49mi)\n",
      "File \u001b[1;32mc:\\Users\\tomkj\\miniconda3\\envs\\rl\\lib\\site-packages\\mlflow\\tracking\\client.py:698\u001b[0m, in \u001b[0;36mMlflowClient.log_metric\u001b[1;34m(self, run_id, key, value, timestamp, step)\u001b[0m\n\u001b[0;32m    633\u001b[0m \u001b[39mdef\u001b[39;00m \u001b[39mlog_metric\u001b[39m(\n\u001b[0;32m    634\u001b[0m     \u001b[39mself\u001b[39m,\n\u001b[0;32m    635\u001b[0m     run_id: \u001b[39mstr\u001b[39m,\n\u001b[1;32m   (...)\u001b[0m\n\u001b[0;32m    639\u001b[0m     step: Optional[\u001b[39mint\u001b[39m] \u001b[39m=\u001b[39m \u001b[39mNone\u001b[39;00m,\n\u001b[0;32m    640\u001b[0m ) \u001b[39m-\u001b[39m\u001b[39m>\u001b[39m \u001b[39mNone\u001b[39;00m:\n\u001b[0;32m    641\u001b[0m \u001b[39m    \u001b[39m\u001b[39m\"\"\"\u001b[39;00m\n\u001b[0;32m    642\u001b[0m \u001b[39m    Log a metric against the run ID.\u001b[39;00m\n\u001b[0;32m    643\u001b[0m \n\u001b[1;32m   (...)\u001b[0m\n\u001b[0;32m    696\u001b[0m \u001b[39m        status: FINISHED\u001b[39;00m\n\u001b[0;32m    697\u001b[0m \u001b[39m    \"\"\"\u001b[39;00m\n\u001b[1;32m--> 698\u001b[0m     \u001b[39mself\u001b[39;49m\u001b[39m.\u001b[39;49m_tracking_client\u001b[39m.\u001b[39;49mlog_metric(run_id, key, value, timestamp, step)\n",
      "File \u001b[1;32mc:\\Users\\tomkj\\miniconda3\\envs\\rl\\lib\\site-packages\\mlflow\\tracking\\_tracking_service\\client.py:286\u001b[0m, in \u001b[0;36mTrackingServiceClient.log_metric\u001b[1;34m(self, run_id, key, value, timestamp, step)\u001b[0m\n\u001b[0;32m    284\u001b[0m metric_value \u001b[39m=\u001b[39m convert_metric_value_to_float_if_possible(value)\n\u001b[0;32m    285\u001b[0m metric \u001b[39m=\u001b[39m Metric(key, metric_value, timestamp, step)\n\u001b[1;32m--> 286\u001b[0m \u001b[39mself\u001b[39;49m\u001b[39m.\u001b[39;49mstore\u001b[39m.\u001b[39;49mlog_metric(run_id, metric)\n",
      "File \u001b[1;32mc:\\Users\\tomkj\\miniconda3\\envs\\rl\\lib\\site-packages\\mlflow\\store\\tracking\\file_store.py:898\u001b[0m, in \u001b[0;36mFileStore.log_metric\u001b[1;34m(self, run_id, metric)\u001b[0m\n\u001b[0;32m    896\u001b[0m \u001b[39mdef\u001b[39;00m \u001b[39mlog_metric\u001b[39m(\u001b[39mself\u001b[39m, run_id, metric):\n\u001b[0;32m    897\u001b[0m     _validate_run_id(run_id)\n\u001b[1;32m--> 898\u001b[0m     _validate_metric(metric\u001b[39m.\u001b[39;49mkey, metric\u001b[39m.\u001b[39;49mvalue, metric\u001b[39m.\u001b[39;49mtimestamp, metric\u001b[39m.\u001b[39;49mstep)\n\u001b[0;32m    899\u001b[0m     run_info \u001b[39m=\u001b[39m \u001b[39mself\u001b[39m\u001b[39m.\u001b[39m_get_run_info(run_id)\n\u001b[0;32m    900\u001b[0m     check_run_is_active(run_info)\n",
      "File \u001b[1;32mc:\\Users\\tomkj\\miniconda3\\envs\\rl\\lib\\site-packages\\mlflow\\utils\\validation.py:120\u001b[0m, in \u001b[0;36m_validate_metric\u001b[1;34m(key, value, timestamp, step)\u001b[0m\n\u001b[0;32m    115\u001b[0m \u001b[39mdef\u001b[39;00m \u001b[39m_validate_metric\u001b[39m(key, value, timestamp, step):\n\u001b[0;32m    116\u001b[0m \u001b[39m    \u001b[39m\u001b[39m\"\"\"\u001b[39;00m\n\u001b[0;32m    117\u001b[0m \u001b[39m    Check that a metric with the specified key, value, timestamp, and step is valid and raise an\u001b[39;00m\n\u001b[0;32m    118\u001b[0m \u001b[39m    exception if it isn't.\u001b[39;00m\n\u001b[0;32m    119\u001b[0m \u001b[39m    \"\"\"\u001b[39;00m\n\u001b[1;32m--> 120\u001b[0m     _validate_metric_name(key)\n\u001b[0;32m    121\u001b[0m     \u001b[39m# value must be a Number\u001b[39;00m\n\u001b[0;32m    122\u001b[0m     \u001b[39m# since bool is an instance of Number check for bool additionally\u001b[39;00m\n\u001b[0;32m    123\u001b[0m     \u001b[39mif\u001b[39;00m \u001b[39mnot\u001b[39;00m _is_numeric(value):\n",
      "File \u001b[1;32mc:\\Users\\tomkj\\miniconda3\\envs\\rl\\lib\\site-packages\\mlflow\\utils\\validation.py:94\u001b[0m, in \u001b[0;36m_validate_metric_name\u001b[1;34m(name)\u001b[0m\n\u001b[0;32m     89\u001b[0m \u001b[39mif\u001b[39;00m name \u001b[39mis\u001b[39;00m \u001b[39mNone\u001b[39;00m:\n\u001b[0;32m     90\u001b[0m     \u001b[39mraise\u001b[39;00m MlflowException(\n\u001b[0;32m     91\u001b[0m         \u001b[39mf\u001b[39m\u001b[39m\"\u001b[39m\u001b[39mMetric name cannot be None. \u001b[39m\u001b[39m{\u001b[39;00m_MISSING_KEY_NAME_MESSAGE\u001b[39m}\u001b[39;00m\u001b[39m\"\u001b[39m,\n\u001b[0;32m     92\u001b[0m         error_code\u001b[39m=\u001b[39mINVALID_PARAMETER_VALUE,\n\u001b[0;32m     93\u001b[0m     )\n\u001b[1;32m---> 94\u001b[0m \u001b[39mif\u001b[39;00m \u001b[39mnot\u001b[39;00m _VALID_PARAM_AND_METRIC_NAMES\u001b[39m.\u001b[39;49mmatch(name):\n\u001b[0;32m     95\u001b[0m     \u001b[39mraise\u001b[39;00m MlflowException(\n\u001b[0;32m     96\u001b[0m         \u001b[39mf\u001b[39m\u001b[39m\"\u001b[39m\u001b[39mInvalid metric name: \u001b[39m\u001b[39m'\u001b[39m\u001b[39m{\u001b[39;00mname\u001b[39m}\u001b[39;00m\u001b[39m'\u001b[39m\u001b[39m. \u001b[39m\u001b[39m{\u001b[39;00m_BAD_CHARACTERS_MESSAGE\u001b[39m}\u001b[39;00m\u001b[39m\"\u001b[39m,\n\u001b[0;32m     97\u001b[0m         INVALID_PARAMETER_VALUE,\n\u001b[0;32m     98\u001b[0m     )\n\u001b[0;32m     99\u001b[0m \u001b[39mif\u001b[39;00m path_not_unique(name):\n",
      "\u001b[1;31mTypeError\u001b[0m: expected string or bytes-like object"
     ]
    }
   ],
   "source": [
    "import random\n",
    "for i in range(50):\n",
    "    client.log_metric(run_id, \"metric\", random.random(), step=i)"
   ]
  },
  {
   "cell_type": "code",
   "execution_count": 19,
   "metadata": {},
   "outputs": [],
   "source": [
    "client.set_terminated(run_id)"
   ]
  },
  {
   "cell_type": "code",
   "execution_count": null,
   "metadata": {},
   "outputs": [],
   "source": []
  }
 ],
 "metadata": {
  "kernelspec": {
   "display_name": "rl",
   "language": "python",
   "name": "python3"
  },
  "language_info": {
   "codemirror_mode": {
    "name": "ipython",
    "version": 3
   },
   "file_extension": ".py",
   "mimetype": "text/x-python",
   "name": "python",
   "nbconvert_exporter": "python",
   "pygments_lexer": "ipython3",
   "version": "3.10.10"
  },
  "orig_nbformat": 4
 },
 "nbformat": 4,
 "nbformat_minor": 2
}
